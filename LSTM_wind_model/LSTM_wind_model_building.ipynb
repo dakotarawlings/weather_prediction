{
 "cells": [
  {
   "cell_type": "code",
   "execution_count": 24,
   "metadata": {},
   "outputs": [],
   "source": [
    "\"\"\"\n",
    "@author Dakota Rawlings\n",
    "@email dakota@mrl.ucsb.edu\n",
    "\n",
    "\n",
    "\"\"\"\n",
    "\n",
    "import sqlite3\n",
    "import pandas as pd\n",
    "from pandas import date_range"
   ]
  },
  {
   "cell_type": "markdown",
   "metadata": {},
   "source": [
    "## Importing and Formatting Data"
   ]
  },
  {
   "cell_type": "code",
   "execution_count": 25,
   "metadata": {},
   "outputs": [],
   "source": [
    "#Format a dataframe after impoting from SQL\n",
    "def format_df(df_in):\n",
    "    \"\"\"Function for formatting a dataframe from the database file with model training NDBC data\n",
    "    \n",
    "    :type df_in: obj (dataframe) -  Dataframe that has been uploaded from NDBC SQL database\n",
    "    :rtype dataframe - formatted dataframe\n",
    "    \"\"\"\n",
    "\n",
    "    df=df_in.copy(deep=True)\n",
    "    df[\"datetime\"] = pd.to_datetime(df[\"datetime\"])\n",
    "    df=df.set_index('datetime')\n",
    "    df[\"date\"] = pd.to_datetime(df[\"date\"])\n",
    "    return df"
   ]
  },
  {
   "cell_type": "code",
   "execution_count": 26,
   "metadata": {},
   "outputs": [
    {
     "name": "stdout",
     "output_type": "stream",
     "text": [
      "[('NDBC_historical_raw_data',), ('NDBC_historical_raw_data_St#{STATIONNUMBER}',), ('NDBC_historical_raw_data_St{STATIONNUMBER}',), ('NDBC_historical_raw_data_St46054',), ('NDBC_historical_data_for_training',), ('NDBC_historical_cleaned_data',)]\n"
     ]
    }
   ],
   "source": [
    "#Query a list of tables from the model building database\n",
    "con = sqlite3.connect(r\"..\\NDBC_model_building_database.db\")\n",
    "cursor = con.cursor()\n",
    "cursor.execute(\"SELECT name FROM sqlite_master WHERE type='table';\")\n",
    "print(cursor.fetchall())"
   ]
  },
  {
   "cell_type": "code",
   "execution_count": 27,
   "metadata": {},
   "outputs": [],
   "source": [
    "#Query cleaned data from DB\n",
    "conn = sqlite3.connect(r\"..\\NDBC_model_building_database.db\")\n",
    "df_cleaned = pd.read_sql_query(\"SELECT * FROM NDBC_historical_cleaned_data\", conn, index_col=None)"
   ]
  },
  {
   "cell_type": "code",
   "execution_count": 28,
   "metadata": {},
   "outputs": [],
   "source": [
    "\n",
    "conn = sqlite3.connect(r\"..\\NDBC_model_building_database.db\")\n",
    "df_training = pd.read_sql_query(\"SELECT * FROM NDBC_historical_data_for_training\", conn, index_col=None)"
   ]
  },
  {
   "cell_type": "code",
   "execution_count": 29,
   "metadata": {},
   "outputs": [],
   "source": [
    "#Format our queried data using our function defined above\n",
    "df_engineered=format_df(df_cleaned)"
   ]
  },
  {
   "cell_type": "code",
   "execution_count": 30,
   "metadata": {},
   "outputs": [
    {
     "data": {
      "text/plain": [
       "3902"
      ]
     },
     "execution_count": 30,
     "metadata": {},
     "output_type": "execute_result"
    }
   ],
   "source": [
    "#Write processed training data to new .db file for upload to google colab\n",
    "conn = sqlite3.connect(r\"NDBC_LSTM_building_database.db\")\n",
    "df_training.to_sql(name=f'NDBC_historical_data_for_training',con=conn,schema='NDBC_LSTM_building_database.db',if_exists='replace') \n"
   ]
  },
  {
   "cell_type": "code",
   "execution_count": 22,
   "metadata": {},
   "outputs": [],
   "source": [
    "#Query cleaned data from DB\n",
    "conn = sqlite3.connect(r\"NDBC_LSTM_building_database.db\")\n",
    "df_training = pd.read_sql_query(\"SELECT * FROM NDBC_historical_data_for_training\", conn, index_col=None)"
   ]
  },
  {
   "cell_type": "markdown",
   "metadata": {},
   "source": [
    "## Basic Data EDA"
   ]
  },
  {
   "cell_type": "code",
   "execution_count": 14,
   "metadata": {},
   "outputs": [
    {
     "name": "stdout",
     "output_type": "stream",
     "text": [
      "<class 'pandas.core.frame.DataFrame'>\n",
      "DatetimeIndex: 93812 entries, 2003-06-06 14:00:00 to 2014-02-17 09:00:00\n",
      "Data columns (total 7 columns):\n",
      " #   Column  Non-Null Count  Dtype         \n",
      "---  ------  --------------  -----         \n",
      " 0   WDIR    93812 non-null  float64       \n",
      " 1   WSPD    93812 non-null  float64       \n",
      " 2   GST     93812 non-null  float64       \n",
      " 3   PRES    93812 non-null  float64       \n",
      " 4   ATMP    93812 non-null  float64       \n",
      " 5   WTMP    93812 non-null  float64       \n",
      " 6   date    93812 non-null  datetime64[ns]\n",
      "dtypes: datetime64[ns](1), float64(6)\n",
      "memory usage: 5.7 MB\n"
     ]
    }
   ],
   "source": [
    "df_engineered.info()"
   ]
  },
  {
   "cell_type": "code",
   "execution_count": 15,
   "metadata": {},
   "outputs": [
    {
     "data": {
      "text/html": [
       "<div>\n",
       "<style scoped>\n",
       "    .dataframe tbody tr th:only-of-type {\n",
       "        vertical-align: middle;\n",
       "    }\n",
       "\n",
       "    .dataframe tbody tr th {\n",
       "        vertical-align: top;\n",
       "    }\n",
       "\n",
       "    .dataframe thead th {\n",
       "        text-align: right;\n",
       "    }\n",
       "</style>\n",
       "<table border=\"1\" class=\"dataframe\">\n",
       "  <thead>\n",
       "    <tr style=\"text-align: right;\">\n",
       "      <th></th>\n",
       "      <th>WDIR</th>\n",
       "      <th>WSPD</th>\n",
       "      <th>GST</th>\n",
       "      <th>PRES</th>\n",
       "      <th>ATMP</th>\n",
       "      <th>WTMP</th>\n",
       "    </tr>\n",
       "  </thead>\n",
       "  <tbody>\n",
       "    <tr>\n",
       "      <th>count</th>\n",
       "      <td>93812.000000</td>\n",
       "      <td>93812.000000</td>\n",
       "      <td>93812.000000</td>\n",
       "      <td>93812.000000</td>\n",
       "      <td>93812.000000</td>\n",
       "      <td>93812.000000</td>\n",
       "    </tr>\n",
       "    <tr>\n",
       "      <th>mean</th>\n",
       "      <td>226.870538</td>\n",
       "      <td>4.450045</td>\n",
       "      <td>5.479279</td>\n",
       "      <td>1014.965646</td>\n",
       "      <td>14.627596</td>\n",
       "      <td>15.293259</td>\n",
       "    </tr>\n",
       "    <tr>\n",
       "      <th>std</th>\n",
       "      <td>77.907516</td>\n",
       "      <td>2.901460</td>\n",
       "      <td>3.339500</td>\n",
       "      <td>4.085191</td>\n",
       "      <td>1.982825</td>\n",
       "      <td>2.075261</td>\n",
       "    </tr>\n",
       "    <tr>\n",
       "      <th>min</th>\n",
       "      <td>1.000000</td>\n",
       "      <td>0.000000</td>\n",
       "      <td>0.000000</td>\n",
       "      <td>982.800000</td>\n",
       "      <td>5.700000</td>\n",
       "      <td>10.200000</td>\n",
       "    </tr>\n",
       "    <tr>\n",
       "      <th>25%</th>\n",
       "      <td>206.000000</td>\n",
       "      <td>2.200000</td>\n",
       "      <td>2.900000</td>\n",
       "      <td>1012.200000</td>\n",
       "      <td>13.200000</td>\n",
       "      <td>13.600000</td>\n",
       "    </tr>\n",
       "    <tr>\n",
       "      <th>50%</th>\n",
       "      <td>252.000000</td>\n",
       "      <td>3.900000</td>\n",
       "      <td>4.800000</td>\n",
       "      <td>1014.600000</td>\n",
       "      <td>14.500000</td>\n",
       "      <td>15.000000</td>\n",
       "    </tr>\n",
       "    <tr>\n",
       "      <th>75%</th>\n",
       "      <td>276.000000</td>\n",
       "      <td>6.200000</td>\n",
       "      <td>7.400000</td>\n",
       "      <td>1017.500000</td>\n",
       "      <td>16.000000</td>\n",
       "      <td>16.800000</td>\n",
       "    </tr>\n",
       "    <tr>\n",
       "      <th>max</th>\n",
       "      <td>360.000000</td>\n",
       "      <td>17.300000</td>\n",
       "      <td>21.000000</td>\n",
       "      <td>1032.900000</td>\n",
       "      <td>23.800000</td>\n",
       "      <td>22.900000</td>\n",
       "    </tr>\n",
       "  </tbody>\n",
       "</table>\n",
       "</div>"
      ],
      "text/plain": [
       "               WDIR          WSPD           GST          PRES          ATMP  \\\n",
       "count  93812.000000  93812.000000  93812.000000  93812.000000  93812.000000   \n",
       "mean     226.870538      4.450045      5.479279   1014.965646     14.627596   \n",
       "std       77.907516      2.901460      3.339500      4.085191      1.982825   \n",
       "min        1.000000      0.000000      0.000000    982.800000      5.700000   \n",
       "25%      206.000000      2.200000      2.900000   1012.200000     13.200000   \n",
       "50%      252.000000      3.900000      4.800000   1014.600000     14.500000   \n",
       "75%      276.000000      6.200000      7.400000   1017.500000     16.000000   \n",
       "max      360.000000     17.300000     21.000000   1032.900000     23.800000   \n",
       "\n",
       "               WTMP  \n",
       "count  93812.000000  \n",
       "mean      15.293259  \n",
       "std        2.075261  \n",
       "min       10.200000  \n",
       "25%       13.600000  \n",
       "50%       15.000000  \n",
       "75%       16.800000  \n",
       "max       22.900000  "
      ]
     },
     "execution_count": 15,
     "metadata": {},
     "output_type": "execute_result"
    }
   ],
   "source": [
    "df_engineered.describe()"
   ]
  }
 ],
 "metadata": {
  "kernelspec": {
   "display_name": "Python 3.9.12 ('base')",
   "language": "python",
   "name": "python3"
  },
  "language_info": {
   "codemirror_mode": {
    "name": "ipython",
    "version": 3
   },
   "file_extension": ".py",
   "mimetype": "text/x-python",
   "name": "python",
   "nbconvert_exporter": "python",
   "pygments_lexer": "ipython3",
   "version": "3.9.12"
  },
  "orig_nbformat": 4,
  "vscode": {
   "interpreter": {
    "hash": "7f60980fe574a928cafda16699d56a2f0369ffe8cdec2e99c3ec7a939e71dadf"
   }
  }
 },
 "nbformat": 4,
 "nbformat_minor": 2
}
