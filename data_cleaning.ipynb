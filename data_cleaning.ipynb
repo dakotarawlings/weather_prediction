{
 "cells": [
  {
   "cell_type": "code",
   "execution_count": 33,
   "metadata": {},
   "outputs": [],
   "source": [
    "\"\"\"This script performs all of the basic data cleaning for data in the NDBC model building database\n",
    "\n",
    "This includes reformatting data values, analysis of gaps and nan streaks, imputation, dropping unwanted columns, \n",
    "\n",
    "\"\"\"\n",
    "\n",
    "import sqlite3\n",
    "import matplotlib.pyplot as plt\n",
    "import numpy as np\n",
    "import pandas as pd\n",
    "import pandas as pd\n",
    "from datetime import datetime\n",
    "from datetime import timedelta"
   ]
  },
  {
   "cell_type": "code",
   "execution_count": 34,
   "metadata": {},
   "outputs": [],
   "source": [
    "#little function for outputing the number of missing values for each column\n",
    "def get_nan_count(df):\n",
    "    \"\"\"Outputs the total number of null values in each column\n",
    "\n",
    "    Args:\n",
    "            df (dataframe): Any dataframe\n",
    "    \"\"\"\n",
    "    \n",
    "    missing_values_count = df.isnull().sum()\n",
    "    print(missing_values_count)\n"
   ]
  },
  {
   "cell_type": "code",
   "execution_count": 35,
   "metadata": {},
   "outputs": [],
   "source": [
    "# Quick function for outputing information on a streak of NaN values (e.g. the date range and number of rows over which a sensor was down)\n",
    "def get_nan_streaks(df_in, column, streak_threshold, verbose=True):\n",
    "    \"\"\"Prints a list of the streaks of NaN values in the data(e.g. the date range and number of rows over which a sensor was down)\n",
    "\n",
    "    Args:\n",
    "            df_in (dataframe): The dataframe of interest\n",
    "            column (str): The column in the dataframe for which you want streak data\n",
    "            streak_threshold (int):the minimum number of sequential NaN over which the streak will be reported\n",
    "            verbose (bool): (default false) if true the function will print out a line of info for each streak \n",
    "\n",
    "    Returns:\n",
    "            List: [[streak count[int], streak(int): number of nans in streak, start_date(datetime obj): for streak, end_date: for streak]]\n",
    "    \"\"\"\n",
    "\n",
    "    #copy the df so we are not modifying in place\n",
    "    df=df_in.copy(deep=True)\n",
    "    #info for each individual streak\n",
    "    streak=0 \n",
    "    start_date=0\n",
    "    end_date=0 \n",
    "    #Count the total number of streaks\n",
    "    streak_count=0\n",
    "    streak_info_matrix=[]\n",
    "    #Loop through every row in the df\n",
    "    for i in range(1, len(df)-1):\n",
    "        #If the value in the row is NaN and the previous value is not we start a streak\n",
    "        if pd.isna(df[column].iloc[i]) and pd.isna(df[column].iloc[i-1])==False:\n",
    "            streak+=1\n",
    "            start_date=df['date'].iloc[i]\n",
    "        #IF the value and the surounding values are NaN we continue incrementing the streak\n",
    "        if pd.isna(df[column].iloc[i]) and pd.isna(df[column].iloc[i-1]) and pd.isna(df[column].iloc[i+1]):\n",
    "            streak+=1\n",
    "        #If the value is NaN and the next value is not we end the streak\n",
    "        if pd.isna(df[column].iloc[i]) and pd.isna(df[column].iloc[i+1])==False:\n",
    "            streak+=1 \n",
    "            end_date=df['date'].iloc[i]\n",
    "            #If the number of NANs in the streak is above the threshold we record and (optionally) print the streak info\n",
    "            if streak>streak_threshold:\n",
    "                streak_count+=1\n",
    "                if verbose==True:\n",
    "                    print(f'{streak_count-1}: NaN streak in {column} for {streak} rows from {start_date} to {end_date}')\n",
    "                streak_info_matrix.append([streak_count-1,streak, start_date, end_date])\n",
    "            #Reinitialize the streak parameters since we are at the end of the streak\n",
    "            streak=0 \n",
    "            start_date=0\n",
    "            end_date=0\n",
    "    #Fianlly print the summary data giving the total number of nan streaks\n",
    "    print(f'SUMMARY: The number of streaks with over {streak_threshold} missing values is {streak_count}')\n",
    "    return streak_info_matrix\n",
    "\n",
    "\n"
   ]
  },
  {
   "cell_type": "code",
   "execution_count": 36,
   "metadata": {},
   "outputs": [],
   "source": [
    "# Funciton to get gaps in data (i.e. dates that were not reported)\n",
    "\n",
    "def get_data_gaps(df_in, tamedelta_threshold):\n",
    "    \"\"\"Prints a list of gaps in the data (i.e. time ranges over which no data is reported)\n",
    "\n",
    "    Args:\n",
    "            df_in (dataframe): The dataframe of interest\n",
    "            tamedelta_threshold (datetime time delta obj): the minimum time gap over which the function will return info on the gap\n",
    "    \"\"\"\n",
    "\n",
    "    #copy the df so that it is not modified in place\n",
    "    df=df_in.copy(deep=True)\n",
    "    #loop through each row in the df ind print info for gap if the date diff between previous index and curr index is larger than threshold\n",
    "    for i in range(1,len(df)):\n",
    "        start_date=df['date'].iloc[i-1]\n",
    "        end_date=df['date'].iloc[i]\n",
    "        if (end_date-start_date)>tamedelta_threshold:\n",
    "            print(f'Gap in data from {start_date} to {end_date}')\n",
    "\n",
    "    "
   ]
  },
  {
   "cell_type": "code",
   "execution_count": 37,
   "metadata": {},
   "outputs": [],
   "source": [
    "# Funciton to recognize NaN values (most stations report errors/NaN values as \"99..\")\n",
    "# Also convert all parameters to floats\n",
    "\n",
    "def nines_to_nans(df_in, data_columns):\n",
    "    \"\"\"takes in a dataframe and a list of columns and turns values into NaNs if the value is close to the error value (generally 99..)\n",
    "\n",
    "    Args:\n",
    "            df_in (dataframe): The dataframe of interest\n",
    "            column (List[str]): The columns in the dataframe that have 99.. as data entries to represent nan values\n",
    "\n",
    "    Returns:\n",
    "            df (dataframe): new dataframe with nans in place of 99...\n",
    "    \"\"\"\n",
    "    #Copy the dataframe so we arenot modifying in place\n",
    "    df=df_in.copy(deep=True)\n",
    "    #loop through all columns in list of columns\n",
    "    for column in data_columns:\n",
    "        #change string column values to numeric\n",
    "        df[column] = pd.to_numeric(df[column], errors='coerce')\n",
    "        #Cast each column as a float\n",
    "        df[column] = df[column].astype(float)\n",
    "        #Here we change the value to NaN if it is close to the max value which is likely 99..\n",
    "        #And we check to make sure that the max value is in fact 99..\n",
    "        max_value=max(df[column])\n",
    "        if '99' in str(max_value):\n",
    "            df[column]=df[column].apply(lambda x: np.NaN if x>max_value-1 else x)\n",
    "    \n",
    "    return df"
   ]
  },
  {
   "cell_type": "code",
   "execution_count": 38,
   "metadata": {},
   "outputs": [],
   "source": [
    "def impute_from_different_station(df_in, df_filler, column):\n",
    "    \"\"\"Function to fill in NaN values with values from the same time but from a different staiton (different df)\n",
    "\n",
    "    Args:\n",
    "            df_in (dataframe): The dataframe with nan values that need to be filled\n",
    "            df_filler (dataframe): Dataframe of data from another similar station\n",
    "            column (List[str]): The columns in the dataframe for wich nan values will be impputed from another station\n",
    "\n",
    "    Returns:\n",
    "            df (dataframe): new dataframe with nan values imputed from different station\n",
    "    \"\"\"\n",
    "\n",
    "    #make a copy of the dataframe so that it is not modified in place\n",
    "    df=df_in.copy(deep=True)\n",
    "    #Get the date up to the hour from the filler dataframe\n",
    "    dates=[datetime.fromisoformat(date_val).strftime(\"%d-%m-%y-%H\") for date_val in df_filler['date'].values]\n",
    "    #loop through each row in the dataframe\n",
    "    for i in range(len(df)):\n",
    "        #if the value is null\n",
    "        if pd.isna(df[column].iloc[i]):\n",
    "            #We get the date up to the hour of the row\n",
    "            fill_date=df['date'].iloc[i]\n",
    "            fill_date=fill_date.strftime(\"%d-%m-%y-%H\")\n",
    "            filler_index=0\n",
    "            #if the date up to the hour that we want to fill is in the filler df\n",
    "            if fill_date in dates:\n",
    "                #we get the index of the row in the filler df that matches our nan value\n",
    "                filler_index=dates.index(fill_date)     \n",
    "                #Locate the data value and impute it for our nan value\n",
    "                filler_value=df_filler[column].iloc[filler_index]\n",
    "                df[column].iloc[i]=filler_value\n",
    "    return df\n",
    "\n"
   ]
  },
  {
   "cell_type": "code",
   "execution_count": 39,
   "metadata": {},
   "outputs": [],
   "source": [
    "#Query raw data from SQLite model building DB\n",
    "conn = sqlite3.connect(r\"C:\\Users\\dakot\\Desktop\\DataScience\\projects\\weather_prediction\\NDBC_model_building_database.db\")\n",
    "df_raw = pd.read_sql_query(\"SELECT * FROM NDBC_historical_raw_data\", conn, index_col=None)\n"
   ]
  },
  {
   "cell_type": "code",
   "execution_count": 40,
   "metadata": {},
   "outputs": [],
   "source": [
    "#format the date column as a datetime object\n",
    "df_raw[\"date\"] = pd.to_datetime(df_raw[\"date\"])\n",
    "#specify all of the columns with weather data\n",
    "data_columns=['PRES', 'DEWP', 'WTMP', 'MWD', 'ATMP',  'WDIR','VIS', 'APD', 'DPD', 'WVHT', 'GST', 'WSPD']\n",
    "#create a new df that will hold our cleaned data\n",
    "df_cleaned=df_raw.copy(deep=True)\n",
    "#Use our function to convert 99.. error values to NaN values \n",
    "df_raw=nines_to_nans(df_raw, data_columns)\n",
    "df_cleaned=nines_to_nans(df_cleaned, data_columns)"
   ]
  },
  {
   "cell_type": "code",
   "execution_count": 41,
   "metadata": {},
   "outputs": [
    {
     "data": {
      "text/plain": [
       "<AxesSubplot:xlabel='date'>"
      ]
     },
     "execution_count": 41,
     "metadata": {},
     "output_type": "execute_result"
    },
    {
     "data": {
      "image/png": "[encoded data removed]",
      "text/plain": [
       "<Figure size 720x360 with 1 Axes>"
      ]
     },
     "metadata": {
      "needs_background": "light"
     },
     "output_type": "display_data"
    }
   ],
   "source": [
    "#Plot our raw data \n",
    "df_raw.plot(x=\"date\", y=['ATMP'],kind=\"line\", figsize=(10, 5))\n",
    "\n",
    "#We can see below that the data has both gaps and streaks of nan values"
   ]
  },
  {
   "cell_type": "code",
   "execution_count": 42,
   "metadata": {},
   "outputs": [
    {
     "name": "stdout",
     "output_type": "stream",
     "text": [
      "index          0\n",
      "year           0\n",
      "month          0\n",
      "day            0\n",
      "hour           0\n",
      "WDIR        2463\n",
      "WSPD        1969\n",
      "GST         3078\n",
      "WVHT      300403\n",
      "DPD       300407\n",
      "APD       300399\n",
      "MWD       375937\n",
      "PRES        6386\n",
      "ATMP       53213\n",
      "WTMP       51780\n",
      "DEWP      220607\n",
      "VIS       488253\n",
      "minute         7\n",
      "TIDE       18619\n",
      "date           7\n",
      "dtype: int64\n"
     ]
    }
   ],
   "source": [
    "#Get the number of nan vlaues for each column\n",
    "get_nan_count(df_cleaned)"
   ]
  },
  {
   "cell_type": "code",
   "execution_count": 43,
   "metadata": {},
   "outputs": [],
   "source": [
    "#Drop columns with too many nans and columns that we dont need\n",
    "df_cleaned['datetime']=df_cleaned['date']\n",
    "df_cleaned=df_cleaned.drop(columns=['TIDE', 'VIS', 'DEWP', 'MWD', 'APD', 'DPD','WVHT', 'index', 'year', 'month', 'day', 'hour', 'minute'])\n",
    "df_cleaned = df_cleaned.dropna(subset=['datetime'])\n",
    "#set our index to a datetime index (note we also keed a seperate column with our datetime object for convenience)\n",
    "df_cleaned=df_cleaned.set_index('datetime')\n"
   ]
  },
  {
   "cell_type": "code",
   "execution_count": 44,
   "metadata": {},
   "outputs": [
    {
     "name": "stdout",
     "output_type": "stream",
     "text": [
      "0: NaN streak in WTMP for 31 rows from 1998-09-25 13:00:00 to 1998-10-27 19:00:00\n",
      "1: NaN streak in WTMP for 480 rows from 2016-06-23 00:00:00 to 2016-06-26 07:50:00\n",
      "2: NaN streak in WTMP for 47932 rows from 2016-06-26 08:30:00 to 2017-05-25 17:30:00\n"
     ]
    },
    {
     "ename": "KeyboardInterrupt",
     "evalue": "",
     "output_type": "error",
     "traceback": [
      "\u001b[1;31m---------------------------------------------------------------------------\u001b[0m",
      "\u001b[1;31mKeyboardInterrupt\u001b[0m                         Traceback (most recent call last)",
      "\u001b[1;32m<ipython-input-44-33a628872d2a>\u001b[0m in \u001b[0;36m<module>\u001b[1;34m\u001b[0m\n\u001b[1;32m----> 1\u001b[1;33m \u001b[0mWTMP_streak_info\u001b[0m\u001b[1;33m=\u001b[0m\u001b[0mget_nan_streaks\u001b[0m\u001b[1;33m(\u001b[0m\u001b[0mdf_cleaned\u001b[0m\u001b[1;33m,\u001b[0m \u001b[1;34m'WTMP'\u001b[0m\u001b[1;33m,\u001b[0m \u001b[1;36m30\u001b[0m\u001b[1;33m)\u001b[0m\u001b[1;33m\u001b[0m\u001b[1;33m\u001b[0m\u001b[0m\n\u001b[0m",
      "\u001b[1;32m<ipython-input-35-11a94389fbf2>\u001b[0m in \u001b[0;36mget_nan_streaks\u001b[1;34m(df_in, column, streak_threshold, verbose)\u001b[0m\n\u001b[0;32m     32\u001b[0m             \u001b[0mstreak\u001b[0m\u001b[1;33m+=\u001b[0m\u001b[1;36m1\u001b[0m\u001b[1;33m\u001b[0m\u001b[1;33m\u001b[0m\u001b[0m\n\u001b[0;32m     33\u001b[0m         \u001b[1;31m#If the value is NaN and the next value is not we end the streak\u001b[0m\u001b[1;33m\u001b[0m\u001b[1;33m\u001b[0m\u001b[1;33m\u001b[0m\u001b[0m\n\u001b[1;32m---> 34\u001b[1;33m         \u001b[1;32mif\u001b[0m \u001b[0mpd\u001b[0m\u001b[1;33m.\u001b[0m\u001b[0misna\u001b[0m\u001b[1;33m(\u001b[0m\u001b[0mdf\u001b[0m\u001b[1;33m[\u001b[0m\u001b[0mcolumn\u001b[0m\u001b[1;33m]\u001b[0m\u001b[1;33m.\u001b[0m\u001b[0miloc\u001b[0m\u001b[1;33m[\u001b[0m\u001b[0mi\u001b[0m\u001b[1;33m]\u001b[0m\u001b[1;33m)\u001b[0m \u001b[1;32mand\u001b[0m \u001b[0mpd\u001b[0m\u001b[1;33m.\u001b[0m\u001b[0misna\u001b[0m\u001b[1;33m(\u001b[0m\u001b[0mdf\u001b[0m\u001b[1;33m[\u001b[0m\u001b[0mcolumn\u001b[0m\u001b[1;33m]\u001b[0m\u001b[1;33m.\u001b[0m\u001b[0miloc\u001b[0m\u001b[1;33m[\u001b[0m\u001b[0mi\u001b[0m\u001b[1;33m+\u001b[0m\u001b[1;36m1\u001b[0m\u001b[1;33m]\u001b[0m\u001b[1;33m)\u001b[0m\u001b[1;33m==\u001b[0m\u001b[1;32mFalse\u001b[0m\u001b[1;33m:\u001b[0m\u001b[1;33m\u001b[0m\u001b[1;33m\u001b[0m\u001b[0m\n\u001b[0m\u001b[0;32m     35\u001b[0m             \u001b[0mstreak\u001b[0m\u001b[1;33m+=\u001b[0m\u001b[1;36m1\u001b[0m\u001b[1;33m\u001b[0m\u001b[1;33m\u001b[0m\u001b[0m\n\u001b[0;32m     36\u001b[0m             \u001b[0mend_date\u001b[0m\u001b[1;33m=\u001b[0m\u001b[0mdf\u001b[0m\u001b[1;33m[\u001b[0m\u001b[1;34m'date'\u001b[0m\u001b[1;33m]\u001b[0m\u001b[1;33m.\u001b[0m\u001b[0miloc\u001b[0m\u001b[1;33m[\u001b[0m\u001b[0mi\u001b[0m\u001b[1;33m]\u001b[0m\u001b[1;33m\u001b[0m\u001b[1;33m\u001b[0m\u001b[0m\n",
      "\u001b[1;32m~\\anaconda3\\lib\\site-packages\\pandas\\core\\indexing.py\u001b[0m in \u001b[0;36m__getitem__\u001b[1;34m(self, key)\u001b[0m\n\u001b[0;32m    893\u001b[0m \u001b[1;33m\u001b[0m\u001b[0m\n\u001b[0;32m    894\u001b[0m             \u001b[0mmaybe_callable\u001b[0m \u001b[1;33m=\u001b[0m \u001b[0mcom\u001b[0m\u001b[1;33m.\u001b[0m\u001b[0mapply_if_callable\u001b[0m\u001b[1;33m(\u001b[0m\u001b[0mkey\u001b[0m\u001b[1;33m,\u001b[0m \u001b[0mself\u001b[0m\u001b[1;33m.\u001b[0m\u001b[0mobj\u001b[0m\u001b[1;33m)\u001b[0m\u001b[1;33m\u001b[0m\u001b[1;33m\u001b[0m\u001b[0m\n\u001b[1;32m--> 895\u001b[1;33m             \u001b[1;32mreturn\u001b[0m \u001b[0mself\u001b[0m\u001b[1;33m.\u001b[0m\u001b[0m_getitem_axis\u001b[0m\u001b[1;33m(\u001b[0m\u001b[0mmaybe_callable\u001b[0m\u001b[1;33m,\u001b[0m \u001b[0maxis\u001b[0m\u001b[1;33m=\u001b[0m\u001b[0maxis\u001b[0m\u001b[1;33m)\u001b[0m\u001b[1;33m\u001b[0m\u001b[1;33m\u001b[0m\u001b[0m\n\u001b[0m\u001b[0;32m    896\u001b[0m \u001b[1;33m\u001b[0m\u001b[0m\n\u001b[0;32m    897\u001b[0m     \u001b[1;32mdef\u001b[0m \u001b[0m_is_scalar_access\u001b[0m\u001b[1;33m(\u001b[0m\u001b[0mself\u001b[0m\u001b[1;33m,\u001b[0m \u001b[0mkey\u001b[0m\u001b[1;33m:\u001b[0m \u001b[0mTuple\u001b[0m\u001b[1;33m)\u001b[0m\u001b[1;33m:\u001b[0m\u001b[1;33m\u001b[0m\u001b[1;33m\u001b[0m\u001b[0m\n",
      "\u001b[1;32m~\\anaconda3\\lib\\site-packages\\pandas\\core\\indexing.py\u001b[0m in \u001b[0;36m_getitem_axis\u001b[1;34m(self, key, axis)\u001b[0m\n\u001b[0;32m   1489\u001b[0m \u001b[1;33m\u001b[0m\u001b[0m\n\u001b[0;32m   1490\u001b[0m         \u001b[1;31m# a list of integers\u001b[0m\u001b[1;33m\u001b[0m\u001b[1;33m\u001b[0m\u001b[1;33m\u001b[0m\u001b[0m\n\u001b[1;32m-> 1491\u001b[1;33m         \u001b[1;32melif\u001b[0m \u001b[0mis_list_like_indexer\u001b[0m\u001b[1;33m(\u001b[0m\u001b[0mkey\u001b[0m\u001b[1;33m)\u001b[0m\u001b[1;33m:\u001b[0m\u001b[1;33m\u001b[0m\u001b[1;33m\u001b[0m\u001b[0m\n\u001b[0m\u001b[0;32m   1492\u001b[0m             \u001b[1;32mreturn\u001b[0m \u001b[0mself\u001b[0m\u001b[1;33m.\u001b[0m\u001b[0m_get_list_axis\u001b[0m\u001b[1;33m(\u001b[0m\u001b[0mkey\u001b[0m\u001b[1;33m,\u001b[0m \u001b[0maxis\u001b[0m\u001b[1;33m=\u001b[0m\u001b[0maxis\u001b[0m\u001b[1;33m)\u001b[0m\u001b[1;33m\u001b[0m\u001b[1;33m\u001b[0m\u001b[0m\n\u001b[0;32m   1493\u001b[0m \u001b[1;33m\u001b[0m\u001b[0m\n",
      "\u001b[1;31mKeyboardInterrupt\u001b[0m: "
     ]
    }
   ],
   "source": [
    "#Information for streaks of nan values in the data using our nines to nans function defined above\n",
    "WTMP_streak_info=get_nan_streaks(df_cleaned, 'WTMP', 30)"
   ]
  },
  {
   "cell_type": "code",
   "execution_count": null,
   "metadata": {},
   "outputs": [
    {
     "name": "stdout",
     "output_type": "stream",
     "text": [
      "0: NaN streak in ATMP for 31 rows from 1998-09-25 13:00:00 to 1998-10-27 19:00:00\n",
      "1: NaN streak in ATMP for 695 rows from 2003-05-08 15:00:00 to 2003-06-06 13:00:00\n",
      "2: NaN streak in ATMP for 50808 rows from 2016-06-06 09:10:00 to 2017-05-25 17:30:00\n",
      "SUMMARY: The number of streaks with over 30 missing values is 3\n"
     ]
    }
   ],
   "source": [
    "ATMP_streak_info=get_nan_streaks(df_cleaned, 'ATMP', 30)"
   ]
  },
  {
   "cell_type": "code",
   "execution_count": 45,
   "metadata": {},
   "outputs": [
    {
     "name": "stdout",
     "output_type": "stream",
     "text": [
      "Gap in data from 1998-05-05 23:00:00 to 1998-05-07 00:00:00\n",
      "Gap in data from 1998-08-29 23:00:00 to 1998-09-19 00:00:00\n",
      "Gap in data from 1998-09-25 23:00:00 to 1998-10-27 00:00:00\n",
      "Gap in data from 2008-11-03 22:50:00 to 2008-12-04 17:50:00\n",
      "Gap in data from 2014-02-17 10:50:00 to 2014-05-14 22:50:00\n",
      "Gap in data from 2014-12-31 22:50:00 to 2015-05-21 16:30:00\n",
      "Gap in data from 2017-05-30 05:10:00 to 2017-05-31 07:30:00\n",
      "Gap in data from 2021-03-09 17:40:00 to 2021-03-15 16:00:00\n"
     ]
    }
   ],
   "source": [
    "#Use our function defined above to get information on gaps in the data\n",
    "get_data_gaps(df_cleaned, timedelta(hours=24))"
   ]
  },
  {
   "cell_type": "code",
   "execution_count": null,
   "metadata": {},
   "outputs": [],
   "source": [
    "#Choose a stretch of data for our cleaned data set that does not contain any major gaps or streaks\n",
    "df_cleaned=df_cleaned[(datetime.fromisoformat('2003-06-06 13:00:00')<df_cleaned['date']) & (df_cleaned['date']<datetime.fromisoformat('2014-02-17 10:50:00'))]"
   ]
  },
  {
   "cell_type": "code",
   "execution_count": null,
   "metadata": {},
   "outputs": [
    {
     "name": "stdout",
     "output_type": "stream",
     "text": [
      "WDIR    545\n",
      "WSPD     27\n",
      "GST     173\n",
      "PRES    117\n",
      "ATMP     67\n",
      "WTMP    151\n",
      "date      0\n",
      "dtype: int64\n"
     ]
    }
   ],
   "source": [
    "get_nan_count(df_cleaned)"
   ]
  },
  {
   "cell_type": "code",
   "execution_count": null,
   "metadata": {},
   "outputs": [
    {
     "name": "stdout",
     "output_type": "stream",
     "text": [
      "<class 'pandas.core.frame.DataFrame'>\n",
      "DatetimeIndex: 92634 entries, 2003-06-06 14:00:00 to 2014-02-17 09:50:00\n",
      "Data columns (total 7 columns):\n",
      " #   Column  Non-Null Count  Dtype         \n",
      "---  ------  --------------  -----         \n",
      " 0   WDIR    92089 non-null  float64       \n",
      " 1   WSPD    92607 non-null  float64       \n",
      " 2   GST     92461 non-null  float64       \n",
      " 3   PRES    92517 non-null  float64       \n",
      " 4   ATMP    92567 non-null  float64       \n",
      " 5   WTMP    92483 non-null  float64       \n",
      " 6   date    92634 non-null  datetime64[ns]\n",
      "dtypes: datetime64[ns](1), float64(6)\n",
      "memory usage: 5.7 MB\n"
     ]
    }
   ],
   "source": [
    "df_cleaned.info()"
   ]
  },
  {
   "cell_type": "code",
   "execution_count": null,
   "metadata": {},
   "outputs": [
    {
     "name": "stdout",
     "output_type": "stream",
     "text": [
      "0: NaN streak in ATMP for 6 rows from 2003-09-20 05:00:00 to 2003-09-20 10:00:00\n",
      "SUMMARY: The number of streaks with over 2 missing values is 1\n"
     ]
    }
   ],
   "source": [
    "#get data gap and streak info for our newly cleaned dataset\n",
    "ATMP_streak_info=get_nan_streaks(df_cleaned, 'ATMP', 2)"
   ]
  },
  {
   "cell_type": "code",
   "execution_count": null,
   "metadata": {},
   "outputs": [
    {
     "name": "stdout",
     "output_type": "stream",
     "text": [
      "Gap in data from 2008-11-03 22:50:00 to 2008-12-04 17:50:00\n"
     ]
    }
   ],
   "source": [
    "get_data_gaps(df_cleaned, timedelta(hours=24))"
   ]
  },
  {
   "cell_type": "code",
   "execution_count": null,
   "metadata": {},
   "outputs": [],
   "source": [
    "#We only have some small streaks so we just fill these with simple linear interpoation\n",
    "df_cleaned = df_cleaned.interpolate(method='linear', axis=0).ffill().bfill()"
   ]
  },
  {
   "cell_type": "code",
   "execution_count": null,
   "metadata": {},
   "outputs": [
    {
     "name": "stdout",
     "output_type": "stream",
     "text": [
      "WDIR    0\n",
      "WSPD    0\n",
      "GST     0\n",
      "PRES    0\n",
      "ATMP    0\n",
      "WTMP    0\n",
      "date    0\n",
      "dtype: int64\n"
     ]
    }
   ],
   "source": [
    "get_nan_count(df_cleaned)"
   ]
  },
  {
   "cell_type": "code",
   "execution_count": null,
   "metadata": {},
   "outputs": [],
   "source": [
    "#To convert our data gaps to nan values we use the resample function but resample as hours (even thought the df is already in hours)\n",
    "df_cleaned = df_cleaned.resample(\"H\").mean()"
   ]
  },
  {
   "cell_type": "code",
   "execution_count": null,
   "metadata": {},
   "outputs": [
    {
     "name": "stdout",
     "output_type": "stream",
     "text": [
      "WDIR    1179\n",
      "WSPD    1179\n",
      "GST     1179\n",
      "PRES    1179\n",
      "ATMP    1179\n",
      "WTMP    1179\n",
      "date       0\n",
      "dtype: int64\n",
      "0: NaN streak in ATMP for 4 rows from 2007-02-17 12:00:00 to 2007-02-17 15:00:00\n",
      "1: NaN streak in ATMP for 3 rows from 2007-02-19 19:00:00 to 2007-02-19 21:00:00\n",
      "2: NaN streak in ATMP for 3 rows from 2007-03-05 19:00:00 to 2007-03-05 21:00:00\n",
      "3: NaN streak in ATMP for 4 rows from 2007-03-20 22:00:00 to 2007-03-21 01:00:00\n",
      "4: NaN streak in ATMP for 6 rows from 2007-10-10 13:00:00 to 2007-10-10 18:00:00\n",
      "5: NaN streak in ATMP for 738 rows from 2008-11-03 23:00:00 to 2008-12-04 16:00:00\n",
      "6: NaN streak in ATMP for 11 rows from 2008-12-07 01:00:00 to 2008-12-07 11:00:00\n",
      "7: NaN streak in ATMP for 3 rows from 2010-01-04 20:00:00 to 2010-01-04 22:00:00\n",
      "8: NaN streak in ATMP for 4 rows from 2010-09-07 21:00:00 to 2010-09-08 00:00:00\n",
      "SUMMARY: The number of streaks with over 2 missing values is 9\n"
     ]
    }
   ],
   "source": [
    "#We have now created a few more streaks of nan values by filling in our data gaps\n",
    "df_cleaned['date']=df_cleaned.index\n",
    "get_nan_count(df_cleaned)\n",
    "get_data_gaps(df_cleaned, timedelta(hours=24))\n",
    "ATMP_streak_info=get_nan_streaks(df_cleaned, 'ATMP', 2)"
   ]
  },
  {
   "cell_type": "code",
   "execution_count": null,
   "metadata": {},
   "outputs": [
    {
     "name": "stdout",
     "output_type": "stream",
     "text": [
      "index          0\n",
      "year           0\n",
      "month          0\n",
      "day            0\n",
      "hour           0\n",
      "WDIR       56740\n",
      "WSPD       13456\n",
      "GST        20274\n",
      "WVHT      202427\n",
      "DPD       202523\n",
      "APD       202427\n",
      "MWD       308500\n",
      "PRES       17599\n",
      "ATMP      110256\n",
      "WTMP       80305\n",
      "DEWP      253578\n",
      "VIS       376549\n",
      "minute         0\n",
      "TIDE       22651\n",
      "date           0\n",
      "dtype: int64\n"
     ]
    }
   ],
   "source": [
    "#IMPUTING DATA VALUES USING A SEPERATE CLOSE BY STATION\n",
    "#Query raw data from DB for our other station\n",
    "conn = sqlite3.connect(r\"C:\\Users\\dakot\\Desktop\\DataScience\\projects\\weather_prediction\\NDBC_model_building_database.db\")\n",
    "df_raw_westSB = pd.read_sql_query(\"SELECT * FROM NDBC_historical_raw_data_St46054\", conn, index_col=None)\n",
    "\n",
    "# Conduct some basic cleaning on the dataframe\n",
    "data_columns=['PRES', 'DEWP', 'WTMP', 'MWD', 'ATMP',  'WDIR','VIS', 'APD', 'DPD', 'WVHT', 'GST', 'WSPD']\n",
    "df_cleaned_westSB=df_raw_westSB\n",
    "df_cleaned_westSB=nines_to_nans(df_cleaned_westSB, data_columns)\n",
    "df_cleaned_westSB=df_cleaned_westSB.dropna(subset=['date'])\n",
    "get_nan_count(df_cleaned_westSB)"
   ]
  },
  {
   "cell_type": "code",
   "execution_count": null,
   "metadata": {},
   "outputs": [],
   "source": [
    "#Plot the station data to visualize its gaps and streaks\n",
    "#df_cleaned_westSB.plot(x=\"date\", y=['WTMP'],kind=\"line\", figsize=(10, 5))"
   ]
  },
  {
   "cell_type": "code",
   "execution_count": 26,
   "metadata": {},
   "outputs": [
    {
     "name": "stderr",
     "output_type": "stream",
     "text": [
      "C:\\Users\\dakot\\anaconda3\\lib\\site-packages\\pandas\\core\\indexing.py:1637: SettingWithCopyWarning: \n",
      "A value is trying to be set on a copy of a slice from a DataFrame\n",
      "\n",
      "See the caveats in the documentation: https://pandas.pydata.org/pandas-docs/stable/user_guide/indexing.html#returning-a-view-versus-a-copy\n",
      "  self._setitem_single_block(indexer, value, name)\n"
     ]
    }
   ],
   "source": [
    "#Use our function defined above to impute values from our filler station\n",
    "df_cleaned=impute_from_different_station(df_cleaned, df_cleaned_westSB, 'PRES')\n",
    "df_cleaned=impute_from_different_station(df_cleaned, df_cleaned_westSB, 'ATMP')\n",
    "df_cleaned=impute_from_different_station(df_cleaned, df_cleaned_westSB, 'WTMP')"
   ]
  },
  {
   "cell_type": "code",
   "execution_count": 27,
   "metadata": {},
   "outputs": [
    {
     "name": "stdout",
     "output_type": "stream",
     "text": [
      "WDIR    1179\n",
      "WSPD    1179\n",
      "GST     1179\n",
      "PRES     185\n",
      "ATMP     157\n",
      "WTMP     194\n",
      "date       0\n",
      "dtype: int64\n",
      "0: NaN streak in ATMP for 3 rows from 2008-11-04 10:00:00 to 2008-11-04 12:00:00\n",
      "1: NaN streak in ATMP for 5 rows from 2008-11-04 21:00:00 to 2008-11-05 01:00:00\n",
      "2: NaN streak in ATMP for 4 rows from 2008-11-05 03:00:00 to 2008-11-05 06:00:00\n",
      "3: NaN streak in ATMP for 3 rows from 2008-11-05 12:00:00 to 2008-11-05 14:00:00\n",
      "4: NaN streak in ATMP for 3 rows from 2008-11-05 16:00:00 to 2008-11-05 18:00:00\n",
      "5: NaN streak in ATMP for 6 rows from 2008-11-05 23:00:00 to 2008-11-06 04:00:00\n",
      "6: NaN streak in ATMP for 4 rows from 2008-11-06 06:00:00 to 2008-11-06 09:00:00\n",
      "7: NaN streak in ATMP for 3 rows from 2010-01-04 20:00:00 to 2010-01-04 22:00:00\n",
      "SUMMARY: The number of streaks with over 2 missing values is 8\n"
     ]
    }
   ],
   "source": [
    "#We will still have some nan values because we did not impute for every column and the filler data will have nan values too\n",
    "get_nan_count(df_cleaned)\n",
    "get_data_gaps(df_cleaned, timedelta(hours=24))\n",
    "ATMP_streak_info=get_nan_streaks(df_cleaned, 'ATMP', 2)"
   ]
  },
  {
   "cell_type": "code",
   "execution_count": 28,
   "metadata": {},
   "outputs": [],
   "source": [
    "#Fill in te rest od the values with linear interpolation\n",
    "df_cleaned = df_cleaned.interpolate(method='linear', axis=0).ffill().bfill()"
   ]
  },
  {
   "cell_type": "code",
   "execution_count": 29,
   "metadata": {},
   "outputs": [
    {
     "name": "stdout",
     "output_type": "stream",
     "text": [
      "WDIR    0\n",
      "WSPD    0\n",
      "GST     0\n",
      "PRES    0\n",
      "ATMP    0\n",
      "WTMP    0\n",
      "date    0\n",
      "dtype: int64\n",
      "SUMMARY: The number of streaks with over 2 missing values is 0\n"
     ]
    }
   ],
   "source": [
    "get_nan_count(df_cleaned)\n",
    "get_data_gaps(df_cleaned, timedelta(hours=24))\n",
    "ATMP_streak_info=get_nan_streaks(df_cleaned, 'ATMP', 2)"
   ]
  },
  {
   "cell_type": "code",
   "execution_count": 30,
   "metadata": {},
   "outputs": [
    {
     "data": {
      "text/plain": [
       "<AxesSubplot:xlabel='date'>"
      ]
     },
     "execution_count": 30,
     "metadata": {},
     "output_type": "execute_result"
    },
    {
     "data": {
      "image/png": "[encoded data removed]",
      "text/plain": [
       "<Figure size 720x360 with 1 Axes>"
      ]
     },
     "metadata": {
      "needs_background": "light"
     },
     "output_type": "display_data"
    }
   ],
   "source": [
    "df_cleaned.plot(x=\"date\", y=['ATMP'],kind=\"line\", figsize=(10, 5))"
   ]
  },
  {
   "cell_type": "code",
   "execution_count": 31,
   "metadata": {},
   "outputs": [],
   "source": [
    "#Save our cleaned dataframe to a new table in our local SQL database\n",
    "conn = sqlite3.connect(r\"C:\\Users\\dakot\\Desktop\\DataScience\\projects\\weather_prediction\\NDBC_model_building_database.db\")\n",
    "df_cleaned.to_sql(name=f'NDBC_historical_cleaned_data',con=conn,schema='NDBC_model_building_database.db',if_exists='replace') "
   ]
  },
  {
   "cell_type": "code",
   "execution_count": 32,
   "metadata": {},
   "outputs": [
    {
     "name": "stdout",
     "output_type": "stream",
     "text": [
      "[('NDBC_historical_raw_data',), ('NDBC_historical_raw_data_St#{STATIONNUMBER}',), ('NDBC_historical_raw_data_St{STATIONNUMBER}',), ('NDBC_historical_raw_data_St46054',), ('NDBC_historical_data_for_training',), ('NDBC_historical_cleaned_data',)]\n"
     ]
    }
   ],
   "source": [
    "#Print out a list of all of the tables in the SQL data frame\n",
    "con = sqlite3.connect(r\"C:\\Users\\dakot\\Desktop\\DataScience\\projects\\weather_prediction\\NDBC_model_building_database.db\")\n",
    "cursor = con.cursor()\n",
    "cursor.execute(\"SELECT name FROM sqlite_master WHERE type='table';\")\n",
    "print(cursor.fetchall())"
   ]
  }
 ],
 "metadata": {
  "interpreter": {
   "hash": "b70063081feeb4abd36a4e5ee8777e95d61b757eeead7e6f964b4a5552d00fee"
  },
  "kernelspec": {
   "display_name": "Python 3.8.8 ('base')",
   "language": "python",
   "name": "python3"
  },
  "language_info": {
   "codemirror_mode": {
    "name": "ipython",
    "version": 3
   },
   "file_extension": ".py",
   "mimetype": "text/x-python",
   "name": "python",
   "nbconvert_exporter": "python",
   "pygments_lexer": "ipython3",
   "version": "3.8.8"
  },
  "orig_nbformat": 4
 },
 "nbformat": 4,
 "nbformat_minor": 2
}
